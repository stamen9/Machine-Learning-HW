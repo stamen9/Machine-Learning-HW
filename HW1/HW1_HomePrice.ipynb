{
 "cells": [
  {
   "cell_type": "code",
   "execution_count": 1,
   "metadata": {},
   "outputs": [],
   "source": [
    "import sys\n",
    "\n",
    "import sklearn\n",
    "import pandas as pd\n",
    "import matplotlib as mpl\n",
    "import matplotlib.pyplot as plt\n",
    "import seaborn as sns\n",
    "\n",
    "from sklearn.model_selection import train_test_split\n",
    "from sklearn.linear_model import LinearRegression\n",
    "from sklearn.preprocessing import LabelEncoder\n",
    "\n",
    "from sklearn.preprocessing import OneHotEncoder\n",
    "\n",
    "%matplotlib inline"
   ]
  },
  {
   "cell_type": "code",
   "execution_count": 2,
   "metadata": {},
   "outputs": [],
   "source": [
    "train = pd.read_csv('data/house-prices/train.csv', index_col=['Id'])\n",
    "test = pd.read_csv('data/house-prices/test.csv', index_col=['Id'])"
   ]
  },
  {
   "cell_type": "code",
   "execution_count": 3,
   "metadata": {},
   "outputs": [],
   "source": [
    "train_no_sale_price = train.drop(labels=['SalePrice'], axis=1)\n",
    "train_sale_price = train['SalePrice']\n",
    "\n",
    "x_train, x_test, y_train, y_test = train_test_split(train_no_sale_price, \n",
    "                                                    train_sale_price, \n",
    "                                                    test_size=0.3, \n",
    "                                                    random_state=4330)"
   ]
  },
  {
   "cell_type": "code",
   "execution_count": 4,
   "metadata": {},
   "outputs": [],
   "source": [
    "regressor = LinearRegression()"
   ]
  },
  {
   "cell_type": "code",
   "execution_count": 5,
   "metadata": {},
   "outputs": [],
   "source": [
    "numeric_column_names = x_train.describe().columns\n",
    "categorical_columns = train.dtypes[train.dtypes == 'object'].index"
   ]
  },
  {
   "cell_type": "markdown",
   "metadata": {},
   "source": [
    "We will fill the missing values with the mean value of a given column"
   ]
  },
  {
   "cell_type": "code",
   "execution_count": 6,
   "metadata": {},
   "outputs": [
    {
     "name": "stderr",
     "output_type": "stream",
     "text": [
      "c:\\users\\sr\\appdata\\local\\programs\\python\\python37-32\\lib\\site-packages\\ipykernel_launcher.py:2: SettingWithCopyWarning: \n",
      "A value is trying to be set on a copy of a slice from a DataFrame.\n",
      "Try using .loc[row_indexer,col_indexer] = value instead\n",
      "\n",
      "See the caveats in the documentation: http://pandas.pydata.org/pandas-docs/stable/indexing.html#indexing-view-versus-copy\n",
      "  \n",
      "c:\\users\\sr\\appdata\\local\\programs\\python\\python37-32\\lib\\site-packages\\ipykernel_launcher.py:3: SettingWithCopyWarning: \n",
      "A value is trying to be set on a copy of a slice from a DataFrame.\n",
      "Try using .loc[row_indexer,col_indexer] = value instead\n",
      "\n",
      "See the caveats in the documentation: http://pandas.pydata.org/pandas-docs/stable/indexing.html#indexing-view-versus-copy\n",
      "  This is separate from the ipykernel package so we can avoid doing imports until\n"
     ]
    }
   ],
   "source": [
    "for index in numeric_column_names:\n",
    "    x_train[index] = x_train[index].fillna(x_train.describe()[2:3].mean()[index])\n",
    "    x_test[index] = x_test[index].fillna(x_train.describe()[2:3].mean()[index])"
   ]
  },
  {
   "cell_type": "code",
   "execution_count": 7,
   "metadata": {},
   "outputs": [
    {
     "name": "stderr",
     "output_type": "stream",
     "text": [
      "c:\\users\\sr\\appdata\\local\\programs\\python\\python37-32\\lib\\site-packages\\sklearn\\preprocessing\\_encoders.py:363: FutureWarning: The handling of integer data will change in version 0.22. Currently, the categories are determined based on the range [0, max(values)], while in the future they will be determined based on the unique values.\n",
      "If you want the future behaviour and silence this warning, you can specify \"categories='auto'\".\n",
      "In case you used a LabelEncoder before this OneHotEncoder to convert the categories to integers, then you can now use the OneHotEncoder directly.\n",
      "  warnings.warn(msg, FutureWarning)\n"
     ]
    }
   ],
   "source": [
    "train = train.fillna(\"\")\n",
    "encoders = {col: LabelEncoder().fit(train[col]) for col in categorical_columns}\n",
    "\n",
    "def encode_categorical(data, columns, encoders):\n",
    "    data = data.fillna(\"\")\n",
    "    return pd.DataFrame({col: encoders[col].transform(data[col]) for col in columns},\n",
    "                        index = data.index)\n",
    "\n",
    "train_encoded = encode_categorical(train, categorical_columns, encoders)\n",
    "\n",
    "one_hot_encoder = OneHotEncoder().fit(train_encoded)"
   ]
  },
  {
   "cell_type": "markdown",
   "metadata": {},
   "source": [
    "After trial and error droping the tables : 'LotFrontage','BsmtFinSF1','TotalBsmtSF' ,'GarageYrBlt','OpenPorchSF','3SsnPorch', 'MiscVal','MoSold','LandContour', 'Utilities','LandSlope','Exterior1st','Exterior2nd','MasVnrType', 'Electrical' ,'FireplaceQu' ,'GarageType', 'GarageFinish' ,'Fence' \n",
    "Seemed to increase the train and test score of the model"
   ]
  },
  {
   "cell_type": "code",
   "execution_count": 55,
   "metadata": {},
   "outputs": [
    {
     "name": "stderr",
     "output_type": "stream",
     "text": [
      "c:\\users\\sr\\appdata\\local\\programs\\python\\python37-32\\lib\\site-packages\\sklearn\\preprocessing\\_encoders.py:363: FutureWarning: The handling of integer data will change in version 0.22. Currently, the categories are determined based on the range [0, max(values)], while in the future they will be determined based on the unique values.\n",
      "If you want the future behaviour and silence this warning, you can specify \"categories='auto'\".\n",
      "In case you used a LabelEncoder before this OneHotEncoder to convert the categories to integers, then you can now use the OneHotEncoder directly.\n",
      "  warnings.warn(msg, FutureWarning)\n",
      "c:\\users\\sr\\appdata\\local\\programs\\python\\python37-32\\lib\\site-packages\\sklearn\\preprocessing\\_encoders.py:363: FutureWarning: The handling of integer data will change in version 0.22. Currently, the categories are determined based on the range [0, max(values)], while in the future they will be determined based on the unique values.\n",
      "If you want the future behaviour and silence this warning, you can specify \"categories='auto'\".\n",
      "In case you used a LabelEncoder before this OneHotEncoder to convert the categories to integers, then you can now use the OneHotEncoder directly.\n",
      "  warnings.warn(msg, FutureWarning)\n"
     ]
    }
   ],
   "source": [
    "numeric_column_names_drop = numeric_column_names.drop(['LotFrontage','BsmtFinSF1','TotalBsmtSF' ,\n",
    "                                'GarageYrBlt','OpenPorchSF','3SsnPorch',\n",
    "                                 'MiscVal','MoSold' ])\n",
    "\n",
    "drop_train_X = x_train[numeric_column_names_drop]\n",
    "\n",
    "\n",
    "drop_test_X = x_test[numeric_column_names_drop]\n",
    "\n",
    "categorical_columns_drop = categorical_columns\n",
    "categorical_columns_drop = categorical_columns_drop.drop(['LandContour', 'Utilities',\n",
    "                            'LandSlope','Exterior1st','Exterior2nd','MasVnrType'\n",
    "                            ,'Electrical','FireplaceQu','GarageType','GarageFinish'\n",
    "                            ,'Fence'])\n",
    "\n",
    "drop_cat_train_X = x_train[categorical_columns_drop]\n",
    "\n",
    "drop_cat_test_X  = x_test[categorical_columns_drop]\n",
    "\n",
    "\n",
    "train_encoded = encode_categorical(train, categorical_columns_drop, encoders)\n",
    "one_hot_encoder = OneHotEncoder().fit(train_encoded)\n",
    "\n",
    "\n",
    "train_encoded2 = encode_categorical(train, categorical_columns_drop, encoders)\n",
    "one_hot_encoder2 = OneHotEncoder().fit(train_encoded2)\n",
    "\n",
    "one_hot_drop_x_train = one_hot_encoder.transform(encode_categorical(drop_cat_train_X, categorical_columns_drop, encoders))\n",
    "one_hot_drop_x_test  = one_hot_encoder.transform(encode_categorical(drop_cat_test_X, categorical_columns_drop, encoders))\n",
    "\n",
    "\n",
    "new_drop_x_train = pd.np.concatenate([one_hot_drop_x_train.todense(), drop_train_X], axis=1)\n",
    "new_drop_x_test = pd.np.concatenate([one_hot_drop_x_test.todense(), drop_test_X], axis=1)"
   ]
  },
  {
   "cell_type": "markdown",
   "metadata": {},
   "source": [
    "After testing different settings for Ridge the deffault options seemed to give the default resoult along with Alpha set to 9"
   ]
  },
  {
   "cell_type": "code",
   "execution_count": 56,
   "metadata": {},
   "outputs": [
    {
     "name": "stdout",
     "output_type": "stream",
     "text": [
      "alpha: 1\n",
      "0.9247926235918801 0.9330018457555824\n",
      "\n",
      "alpha: 2\n",
      "0.9197894141513961 0.9341793519350333\n",
      "\n",
      "alpha: 3\n",
      "0.916477073717634 0.9347152773238976\n",
      "\n",
      "alpha: 4\n",
      "0.9140054440069947 0.9350122995599409\n",
      "\n",
      "alpha: 5\n",
      "0.9120307997329244 0.9351879175494275\n",
      "\n",
      "alpha: 6\n",
      "0.9103832052882006 0.9352924660948134\n",
      "\n",
      "alpha: 7\n",
      "0.9089667912245137 0.9353516407862102\n",
      "\n",
      "alpha: 8\n",
      "0.9077223376852547 0.935380029804901\n",
      "\n",
      "alpha: 9\n",
      "0.9066107684862366 0.9353865550541068\n",
      "\n",
      "alpha: 10\n",
      "0.9056049725898748 0.9353769893767953\n",
      "\n",
      "alpha: 11\n",
      "0.9046853833762198 0.9353552387901081\n",
      "\n",
      "alpha: 12\n",
      "0.9038374220734076 0.9353240444173481\n",
      "\n",
      "alpha: 13\n",
      "0.9030499371734642 0.935285389264397\n",
      "\n",
      "alpha: 14\n",
      "0.9023142087359505 0.9352407452249485\n",
      "\n",
      "alpha: 15\n",
      "0.9016232892187863 0.9351912290813162\n",
      "\n",
      "alpha: 16\n",
      "0.9009715532243344 0.9351377044030716\n",
      "\n",
      "alpha: 17\n",
      "0.9003543815665881 0.9350808500796839\n",
      "\n",
      "alpha: 18\n",
      "0.8997679343484356 0.935021207607919\n",
      "\n",
      "alpha: 19\n",
      "0.8992089845962742 0.9349592144662168\n",
      "\n",
      "alpha: 20\n",
      "0.8986747940594986 0.9348952281476806\n",
      "\n",
      "alpha: 21\n",
      "0.8981630189776846 0.9348295437798085\n",
      "\n",
      "alpha: 22\n",
      "0.8976716375409173 0.9347624072522095\n",
      "\n",
      "alpha: 23\n",
      "0.8971988933145503 0.934694025140615\n",
      "\n",
      "alpha: 24\n",
      "0.8967432505889632 0.9346245723082872\n",
      "\n"
     ]
    }
   ],
   "source": [
    "from sklearn.linear_model import Ridge\n",
    "\n",
    "\n",
    "alphas  = [1,2,3,4,5,6,7,8,9,10,11,12,13,14,15,16,17, 18, 19 , 20, 21 , 22 , 23, 24]\n",
    "\n",
    "for alpha in alphas:\n",
    "    all_data_lr = Ridge(alpha = alpha,solver='auto' ).fit(new_drop_x_train, pd.np.log10(y_train))\n",
    "    print('alpha:', alpha)\n",
    "    print(all_data_lr.score(new_drop_x_train, pd.np.log10(y_train)), all_data_lr.score(new_drop_x_test, pd.np.log10(y_test)))\n",
    "    print()"
   ]
  },
  {
   "cell_type": "code",
   "execution_count": 43,
   "metadata": {},
   "outputs": [],
   "source": [
    "train = pd.read_csv('data/house-prices/train.csv', index_col=['Id'])\n",
    "test = pd.read_csv('data/house-prices/test.csv', index_col=['Id'])\n",
    "\n",
    "def numer_fillna(data):\n",
    "    _numeric= data[numeric_column_names_drop]\n",
    "    for index in numeric_column_names_drop:\n",
    "        _numeric[index] = data[index].fillna(data.describe()[1:2].mean()[index])\n",
    "    return _numeric\n",
    "\n",
    "def pipeline_data(data):\n",
    "    _numeric = numer_fillna(data)\n",
    "    _categorical = data[categorical_columns_drop].fillna(\"\")\n",
    "    _encoded = encode_categorical(_categorical, categorical_columns_drop, encoders)\n",
    "    _one_hot_encoded = one_hot_encoder2.transform(_encoded)\n",
    "    _merged = pd.np.concatenate([_one_hot_encoded.todense(), _numeric], axis=1)\n",
    "    return _merged"
   ]
  },
  {
   "cell_type": "code",
   "execution_count": 44,
   "metadata": {},
   "outputs": [
    {
     "name": "stderr",
     "output_type": "stream",
     "text": [
      "c:\\users\\sr\\appdata\\local\\programs\\python\\python37-32\\lib\\site-packages\\ipykernel_launcher.py:7: SettingWithCopyWarning: \n",
      "A value is trying to be set on a copy of a slice from a DataFrame.\n",
      "Try using .loc[row_indexer,col_indexer] = value instead\n",
      "\n",
      "See the caveats in the documentation: http://pandas.pydata.org/pandas-docs/stable/indexing.html#indexing-view-versus-copy\n",
      "  import sys\n",
      "c:\\users\\sr\\appdata\\local\\programs\\python\\python37-32\\lib\\site-packages\\ipykernel_launcher.py:7: SettingWithCopyWarning: \n",
      "A value is trying to be set on a copy of a slice from a DataFrame.\n",
      "Try using .loc[row_indexer,col_indexer] = value instead\n",
      "\n",
      "See the caveats in the documentation: http://pandas.pydata.org/pandas-docs/stable/indexing.html#indexing-view-versus-copy\n",
      "  import sys\n"
     ]
    }
   ],
   "source": [
    "full_x = pipeline_data(train)\n",
    "full_y = train['SalePrice']\n",
    "\n",
    "# Fix test set missing data problems\n",
    "test['MSZoning'].fillna('RL', inplace=True)\n",
    "test['KitchenQual'].fillna('TA', inplace=True)\n",
    "test['Functional'].fillna('Typ', inplace=True)\n",
    "test['SaleType'].fillna('WD', inplace=True)\n",
    "\n",
    "test_set = pipeline_data(test)"
   ]
  },
  {
   "cell_type": "code",
   "execution_count": 19,
   "metadata": {},
   "outputs": [],
   "source": [
    "ridge = Ridge(alpha = 9 , solver='auto' ).fit(full_x, pd.np.log10(full_y))"
   ]
  },
  {
   "cell_type": "code",
   "execution_count": 20,
   "metadata": {},
   "outputs": [
    {
     "data": {
      "text/html": [
       "<div>\n",
       "<style scoped>\n",
       "    .dataframe tbody tr th:only-of-type {\n",
       "        vertical-align: middle;\n",
       "    }\n",
       "\n",
       "    .dataframe tbody tr th {\n",
       "        vertical-align: top;\n",
       "    }\n",
       "\n",
       "    .dataframe thead th {\n",
       "        text-align: right;\n",
       "    }\n",
       "</style>\n",
       "<table border=\"1\" class=\"dataframe\">\n",
       "  <thead>\n",
       "    <tr style=\"text-align: right;\">\n",
       "      <th></th>\n",
       "      <th>Id</th>\n",
       "      <th>SalePrice</th>\n",
       "    </tr>\n",
       "  </thead>\n",
       "  <tbody>\n",
       "    <tr>\n",
       "      <th>0</th>\n",
       "      <td>1461</td>\n",
       "      <td>113890.787904</td>\n",
       "    </tr>\n",
       "    <tr>\n",
       "      <th>1</th>\n",
       "      <td>1462</td>\n",
       "      <td>150023.741880</td>\n",
       "    </tr>\n",
       "    <tr>\n",
       "      <th>2</th>\n",
       "      <td>1463</td>\n",
       "      <td>169633.212103</td>\n",
       "    </tr>\n",
       "    <tr>\n",
       "      <th>3</th>\n",
       "      <td>1464</td>\n",
       "      <td>191785.266429</td>\n",
       "    </tr>\n",
       "    <tr>\n",
       "      <th>4</th>\n",
       "      <td>1465</td>\n",
       "      <td>202666.670234</td>\n",
       "    </tr>\n",
       "  </tbody>\n",
       "</table>\n",
       "</div>"
      ],
      "text/plain": [
       "     Id      SalePrice\n",
       "0  1461  113890.787904\n",
       "1  1462  150023.741880\n",
       "2  1463  169633.212103\n",
       "3  1464  191785.266429\n",
       "4  1465  202666.670234"
      ]
     },
     "execution_count": 20,
     "metadata": {},
     "output_type": "execute_result"
    }
   ],
   "source": [
    "predictions = 10**ridge.predict(test_set)\n",
    "predictions_df = pd.DataFrame({\"Id\":test.index, \"SalePrice\":predictions})\n",
    "predictions_df.to_csv(\"Resoults/Ridge.csv\", index=False)\n",
    "predictions_df.head()"
   ]
  },
  {
   "cell_type": "markdown",
   "metadata": {},
   "source": [
    "This gets a score of 0.12578 Rank 1437 (durring the time of writing this). I somehow made some chang (not sure what) and was able to get e slightly better score of 0.12549."
   ]
  },
  {
   "cell_type": "markdown",
   "metadata": {},
   "source": [
    "Next we will try to get a better score with Lasso"
   ]
  },
  {
   "cell_type": "code",
   "execution_count": 54,
   "metadata": {
    "scrolled": false
   },
   "outputs": [
    {
     "name": "stderr",
     "output_type": "stream",
     "text": [
      "c:\\users\\sr\\appdata\\local\\programs\\python\\python37-32\\lib\\site-packages\\sklearn\\linear_model\\coordinate_descent.py:491: ConvergenceWarning: Objective did not converge. You might want to increase the number of iterations. Fitting data with very small alpha may cause precision problems.\n",
      "  ConvergenceWarning)\n"
     ]
    },
    {
     "name": "stdout",
     "output_type": "stream",
     "text": [
      "alpha: 0.01\n",
      "0.929574352228526\n",
      "0.8796968384629401\n",
      "\n"
     ]
    },
    {
     "name": "stderr",
     "output_type": "stream",
     "text": [
      "c:\\users\\sr\\appdata\\local\\programs\\python\\python37-32\\lib\\site-packages\\sklearn\\linear_model\\coordinate_descent.py:491: ConvergenceWarning: Objective did not converge. You might want to increase the number of iterations. Fitting data with very small alpha may cause precision problems.\n",
      "  ConvergenceWarning)\n"
     ]
    },
    {
     "name": "stdout",
     "output_type": "stream",
     "text": [
      "alpha: 1\n",
      "0.9295510241155998\n",
      "0.880419412335854\n",
      "\n"
     ]
    },
    {
     "name": "stderr",
     "output_type": "stream",
     "text": [
      "c:\\users\\sr\\appdata\\local\\programs\\python\\python37-32\\lib\\site-packages\\sklearn\\linear_model\\coordinate_descent.py:491: ConvergenceWarning: Objective did not converge. You might want to increase the number of iterations. Fitting data with very small alpha may cause precision problems.\n",
      "  ConvergenceWarning)\n"
     ]
    },
    {
     "name": "stdout",
     "output_type": "stream",
     "text": [
      "alpha: 2\n",
      "0.9294855644412008\n",
      "0.880547164838766\n",
      "\n"
     ]
    },
    {
     "name": "stderr",
     "output_type": "stream",
     "text": [
      "c:\\users\\sr\\appdata\\local\\programs\\python\\python37-32\\lib\\site-packages\\sklearn\\linear_model\\coordinate_descent.py:491: ConvergenceWarning: Objective did not converge. You might want to increase the number of iterations. Fitting data with very small alpha may cause precision problems.\n",
      "  ConvergenceWarning)\n"
     ]
    },
    {
     "name": "stdout",
     "output_type": "stream",
     "text": [
      "alpha: 5\n",
      "0.9291560282218005\n",
      "0.881600867280406\n",
      "\n",
      "alpha: 8\n",
      "0.9287316617373305\n",
      "0.8822946610546228\n",
      "\n",
      "alpha: 10\n",
      "0.928515318829886\n",
      "0.8831669972167888\n",
      "\n",
      "alpha: 15\n",
      "0.927927357494538\n",
      "0.8850732015229075\n",
      "\n",
      "alpha: 20\n",
      "0.9272662517492297\n",
      "0.8866106771607285\n",
      "\n"
     ]
    },
    {
     "name": "stderr",
     "output_type": "stream",
     "text": [
      "c:\\users\\sr\\appdata\\local\\programs\\python\\python37-32\\lib\\site-packages\\sklearn\\linear_model\\coordinate_descent.py:491: ConvergenceWarning: Objective did not converge. You might want to increase the number of iterations. Fitting data with very small alpha may cause precision problems.\n",
      "  ConvergenceWarning)\n"
     ]
    },
    {
     "name": "stdout",
     "output_type": "stream",
     "text": [
      "alpha: 30\n",
      "0.9257302087703443\n",
      "0.8892956468485036\n",
      "\n",
      "alpha: 45\n",
      "0.9232239305877662\n",
      "0.8933309441664251\n",
      "\n",
      "alpha: 70\n",
      "0.9190446595038442\n",
      "0.8975355671529872\n",
      "\n",
      "alpha: 100\n",
      "0.9142299867911328\n",
      "0.9001001507659121\n",
      "\n",
      "alpha: 150\n",
      "0.9050459269580482\n",
      "0.9026790668654786\n",
      "\n",
      "alpha: 180\n",
      "0.8985496800258138\n",
      "0.9026783653709098\n",
      "\n",
      "alpha: 190\n",
      "0.8962150896204558\n",
      "0.9024528006945796\n",
      "\n",
      "alpha: 200\n",
      "0.8937844545109823\n",
      "0.9021314568172577\n",
      "\n",
      "alpha: 210\n",
      "0.8912577604047475\n",
      "0.9017241218214309\n",
      "\n",
      "alpha: 220\n",
      "0.8888318247425637\n",
      "0.9010980644357877\n",
      "\n",
      "alpha: 250\n",
      "0.8820343590540082\n",
      "0.8983678323864173\n",
      "\n",
      "alpha: 270\n",
      "0.8770275250094277\n",
      "0.8963187868390724\n",
      "\n",
      "alpha: 300\n",
      "0.8699915242294037\n",
      "0.89352758943129\n",
      "\n"
     ]
    },
    {
     "name": "stderr",
     "output_type": "stream",
     "text": [
      "c:\\users\\sr\\appdata\\local\\programs\\python\\python37-32\\lib\\site-packages\\sklearn\\linear_model\\coordinate_descent.py:491: ConvergenceWarning: Objective did not converge. You might want to increase the number of iterations. Fitting data with very small alpha may cause precision problems.\n",
      "  ConvergenceWarning)\n"
     ]
    }
   ],
   "source": [
    "from sklearn import linear_model\n",
    "for alpha in [0.01, 1 ,2 ,5 , 8 , 10 , 15 , 20 ,30 ,45 ,70 , 100 , 150 , 180 ,190, 200 ,210 ,220,250 , 270, 300]:\n",
    "    lassoModel = linear_model.Lasso(alpha = alpha , max_iter=2000,\n",
    "                                   warm_start=False, positive=False, \n",
    "                                random_state=None, selection='random').fit(new_drop_x_train, y_train)\n",
    "    lasso_trainS = lassoModel.score(new_drop_x_train, y_train)\n",
    "    lasso_testS  = lassoModel.score(new_drop_x_test, y_test)\n",
    "    print('alpha:', alpha)\n",
    "    print(lasso_trainS)\n",
    "    print(lasso_testS)\n",
    "    print()"
   ]
  },
  {
   "cell_type": "code",
   "execution_count": 48,
   "metadata": {},
   "outputs": [],
   "source": [
    "lasso = linear_model.Lasso(alpha = 190 , max_iter=2000,\n",
    "              warm_start=False, positive=False, \n",
    "              random_state=None, selection='random').fit(full_x, pd.np.log10(full_y))"
   ]
  },
  {
   "cell_type": "code",
   "execution_count": 49,
   "metadata": {
    "scrolled": true
   },
   "outputs": [
    {
     "data": {
      "text/html": [
       "<div>\n",
       "<style scoped>\n",
       "    .dataframe tbody tr th:only-of-type {\n",
       "        vertical-align: middle;\n",
       "    }\n",
       "\n",
       "    .dataframe tbody tr th {\n",
       "        vertical-align: top;\n",
       "    }\n",
       "\n",
       "    .dataframe thead th {\n",
       "        text-align: right;\n",
       "    }\n",
       "</style>\n",
       "<table border=\"1\" class=\"dataframe\">\n",
       "  <thead>\n",
       "    <tr style=\"text-align: right;\">\n",
       "      <th></th>\n",
       "      <th>Id</th>\n",
       "      <th>SalePrice</th>\n",
       "    </tr>\n",
       "  </thead>\n",
       "  <tbody>\n",
       "    <tr>\n",
       "      <th>0</th>\n",
       "      <td>1461</td>\n",
       "      <td>167807.945101</td>\n",
       "    </tr>\n",
       "    <tr>\n",
       "      <th>1</th>\n",
       "      <td>1462</td>\n",
       "      <td>170448.845778</td>\n",
       "    </tr>\n",
       "    <tr>\n",
       "      <th>2</th>\n",
       "      <td>1463</td>\n",
       "      <td>170009.674333</td>\n",
       "    </tr>\n",
       "    <tr>\n",
       "      <th>3</th>\n",
       "      <td>1464</td>\n",
       "      <td>166187.153457</td>\n",
       "    </tr>\n",
       "    <tr>\n",
       "      <th>4</th>\n",
       "      <td>1465</td>\n",
       "      <td>161379.036456</td>\n",
       "    </tr>\n",
       "  </tbody>\n",
       "</table>\n",
       "</div>"
      ],
      "text/plain": [
       "     Id      SalePrice\n",
       "0  1461  167807.945101\n",
       "1  1462  170448.845778\n",
       "2  1463  170009.674333\n",
       "3  1464  166187.153457\n",
       "4  1465  161379.036456"
      ]
     },
     "execution_count": 49,
     "metadata": {},
     "output_type": "execute_result"
    }
   ],
   "source": [
    "predictions2 = 10**lasso.predict(test_set)\n",
    "predictions_df2 = pd.DataFrame({\"Id\":test.index, \"SalePrice\":predictions2})\n",
    "predictions_df2.to_csv(\"Resoults/Lasso.csv\", index=False)\n",
    "predictions_df2.head()"
   ]
  },
  {
   "cell_type": "markdown",
   "metadata": {},
   "source": [
    "This had a really bad score in kaggle but i think it might be becouse im not exporting correctly but i can't seem to find the where the issue is here :S"
   ]
  },
  {
   "cell_type": "code",
   "execution_count": null,
   "metadata": {},
   "outputs": [],
   "source": []
  }
 ],
 "metadata": {
  "kernelspec": {
   "display_name": "Python 3",
   "language": "python",
   "name": "python3"
  },
  "language_info": {
   "codemirror_mode": {
    "name": "ipython",
    "version": 3
   },
   "file_extension": ".py",
   "mimetype": "text/x-python",
   "name": "python",
   "nbconvert_exporter": "python",
   "pygments_lexer": "ipython3",
   "version": "3.7.1"
  }
 },
 "nbformat": 4,
 "nbformat_minor": 2
}
